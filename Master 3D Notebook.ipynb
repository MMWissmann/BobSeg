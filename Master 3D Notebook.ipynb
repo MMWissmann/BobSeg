{
 "cells": [
  {
   "cell_type": "markdown",
   "metadata": {},
   "source": [
    "# Generate Segmentation Images based on NetSurfaceProblem"
   ]
  },
  {
   "cell_type": "code",
   "execution_count": 1,
   "metadata": {
    "scrolled": true
   },
   "outputs": [
    {
     "name": "stderr",
     "output_type": "stream",
     "text": [
      "WARNING:trimesh | searching for scad in: /Users/wissmann/py37/bin:/Users/wissmann/py37/bin:/usr/local/bin:/usr/bin:/bin:/usr/sbin:/sbin:/Applications/OpenSCAD.app/Contents/MacOS\n",
      "WARNING:trimesh | searching for blender in: /Users/wissmann/py37/bin:/Users/wissmann/py37/bin:/usr/local/bin:/usr/bin:/bin:/usr/sbin:/sbin:/Applications/blender.app/Contents/MacOS:/Applications/Blender/blender.app/Contents/MacOS\n",
      "WARNING:trimesh | No FCL -- collision checking will not work\n",
      "WARNING:trimesh | SVG path loading unavailable!\n"
     ]
    }
   ],
   "source": [
    "%matplotlib qt\n",
    "\n",
    "import time\n",
    "import copy\n",
    "import numpy as np\n",
    "from skimage.filters import gaussian\n",
    "\n",
    "from tifffile import imread, imsave\n",
    "import _pickle as pickle\n",
    "\n",
    "import matplotlib.pyplot as plt\n",
    "\n",
    "from spimagine import volfig, volshow\n",
    "from spimagine import EllipsoidMesh, Mesh\n",
    "\n",
    "%reload_ext autoreload\n",
    "%autoreload 2\n",
    "\n",
    "from Netsurface3d import NetSurf3d\n",
    "from data4d import Data4d\n",
    "from stitch_surfaces import StitchSurfaces\n",
    "from netsurface3d_radial import NetSurf3dRadial\n",
    "from data4d_radial import Data4dRadial\n",
    "from Visualization import Visualization\n",
    "from CrossSection import CrossSection"
   ]
  },
  {
   "cell_type": "markdown",
   "metadata": {},
   "source": [
    "# Load and Initialize"
   ]
  },
  {
   "cell_type": "code",
   "execution_count": 2,
   "metadata": {},
   "outputs": [],
   "source": [
    "#filenames of images and of mask have to be in same order\n",
    "\n",
    "#filenames = [ '/Users/wissmann/BobSeg/FlySegCropped.tif']\n",
    "#filenames = [ '/Users/wissmann/BobSeg/Cell_croppedModel-0.0.1-3D_Sim-PSF(0.2 0.2 0.6) PXS(0.1 0.1 0.1)-1.tif']\n",
    "filenames = [ '/Users/wissmann/BobSeg/Vecad-flidsRed-48hpf.lif - fish1-48hpf-1.tif']\n",
    "filenames_mask = np.array([['/Users/wissmann/BobSeg/fish_mask.tif',None,None]])\n",
    "#filenames = [ '/Users/wissmann/BobSeg/easy2surfaces.tif']\n",
    "#filenames_mask = [ '/Users/wissmann/BobSeg/easymask.tif']\n",
    "#filenames = [ '/Users/wissmann/BobSeg/HyperStack.tif']\n",
    "#filenames = [ '/Users/wissmann/BobSeg/HyperStack3.tif']\n",
    "#filenames = [ '/Users/wissmann/BobSeg/debugdx.tif']\n",
    "#filenames = ['/Users/wissmann/BobSeg/nonquadratictest.tif']"
   ]
  },
  {
   "cell_type": "code",
   "execution_count": 3,
   "metadata": {},
   "outputs": [],
   "source": [
    "#Methods : [' z  ,  y ,  x , rad']\n",
    "chosen  =  [  1  ,  0 ,  0 ,  1  ]\n",
    "\n",
    "#if you change chosen, Kernel restart is required"
   ]
  },
  {
   "cell_type": "code",
   "execution_count": 4,
   "metadata": {},
   "outputs": [],
   "source": [
    "# Parameters for Netsurf with Base Graph\n",
    "#             [ z, y, x]\n",
    "K           = [50,40,30]                 \n",
    "max_delta_k = [2 , 2, 2]\n",
    "dx          = [10,10, 4]\n",
    "dy          = [10, 4,10]\n",
    "surfaces    = [ 2, 2, 2]\n",
    "min_dist    = [ 2, 8, 2]                 #In terms of K\n",
    "max_dist    = [50,50,50]                 #In terms of K\n",
    "plot_base_graph =False                   "
   ]
  },
  {
   "cell_type": "code",
   "execution_count": 5,
   "metadata": {},
   "outputs": [],
   "source": [
    "# Parameters for Radial Netsurf\n",
    "K_Rad            = 40\n",
    "max_delta_k_rad  = 3\n",
    "max_rs           = (800,740,220)                                   #In px (x,y,z)\n",
    "min_rs           = (1,1,1)                                         #In px (x,y,z)\n",
    "centers          = [(500,500,100),(200,200,100)]                   #In px (x,y,z)"
   ]
  },
  {
   "cell_type": "markdown",
   "metadata": {},
   "source": [
    "# Segmentation"
   ]
  },
  {
   "cell_type": "code",
   "execution_count": 6,
   "metadata": {},
   "outputs": [
    {
     "name": "stdout",
     "output_type": "stream",
     "text": [
      "Dimensions (z,y,x) of frame 0 :  (213, 738, 792)\n",
      "Searching for surface(s) along z direction\n",
      "Dimensions (y,x) of mask 0 :  (738, 792)\n",
      "Added appearance for \"Bg_0\" in frame 0\n",
      "Number of columns: 3038\n",
      "Number of Surfaces: 2\n",
      "Done with surface 0\n",
      "Elapsed time is 7.350883722305298 seconds.\n",
      "Done with surface 1\n",
      "Elapsed time is 7.875776052474976 seconds.\n",
      "      Optimum energy:  202317.0\n",
      "      Nodes in/out:  203428 100372\n",
      "Dimensions of frame 0 :  (213, 738, 792)\n",
      "Added appearance for \"Ra_0\" in frame 0 with seed coordinates [500. 500. 100.]\n",
      "      Optimum energy:  8469.0\n",
      "      Nodes in/out:  8799 11681\n",
      "Added appearance for \"Ra_1\" in frame 0 with seed coordinates [200. 200. 100.]\n",
      "      Optimum energy:  11880.0\n",
      "      Nodes in/out:  4588 15892\n"
     ]
    }
   ],
   "source": [
    "data={}\n",
    "Bg={}\n",
    "Ra={}\n",
    "\n",
    "#Base graph\n",
    "for i in range(3):\n",
    "    if chosen[i]==1:\n",
    "        data[i]=Data4d(filenames, axis=i, filenames_mask=filenames_mask[:,i], pixelsize=(1.,1.,1.), silent=False, plane=None )\n",
    "        data[i].set_seg_params(K[i],max_delta_k[i],dx[i],dy[i],surfaces[i],min_dist[i],max_dist[i])\n",
    "        Bg[i] = data[i].init_object(\"Bg_%s\"%i)\n",
    "        data[i].add_object_at( Bg[i], 0, data[i].images[0].shape[0], frame=0, frame_to=0, segment_it=True, plot_base_graph=plot_base_graph )\n",
    "    else: data[i]=None\n",
    "        \n",
    "#Radial\n",
    "if chosen[3]==1:\n",
    "    data[3]=Data4dRadial( filenames, pixelsize=(1.,1.,1.), silent=False )\n",
    "    data[3].set_seg_params(K_Rad,max_delta_k_rad)\n",
    "    for center in range(len(centers)):\n",
    "        Ra[center]=data[3].init_object(\"Ra_%s\"%center)\n",
    "        data[3].add_object_at(Ra[center], min_rs, max_rs, frame=0, seed=centers[center], frame_to=0, segment_it=True )\n",
    "else: data[3]=None\n",
    "    \n",
    "data[5]=Data4d(filenames, axis=0, filenames_mask=filenames_mask[:,0], pixelsize=(1.,1.,1.), silent=True, plane=None )\n",
    "images=data[5].images"
   ]
  },
  {
   "cell_type": "markdown",
   "metadata": {},
   "source": [
    "# Visualization"
   ]
  },
  {
   "cell_type": "markdown",
   "metadata": {},
   "source": [
    "    Colour code for both 3d visualization and 2d cross-section plots: \n",
    "        Base graph (x,y,z): (green,blue,gold)\n",
    "        Radial            : red"
   ]
  },
  {
   "cell_type": "code",
   "execution_count": 7,
   "metadata": {},
   "outputs": [],
   "source": [
    "vis = Visualization(data, images)"
   ]
  },
  {
   "cell_type": "markdown",
   "metadata": {},
   "source": [
    "    show_single: shows all meshes from all chosen netsurf possibilities\n",
    "    show_union: shows one union mesh of the single meshes\n",
    "    export: exports meshes as .obj files e.g. to be opened in blender\n",
    "    stitch: in case of base graph with more than 1 surface, stitches the surfaces together to simulate volume\n",
    "        setting stitch to True applies for all base graph netsurfs"
   ]
  },
  {
   "cell_type": "code",
   "execution_count": 8,
   "metadata": {},
   "outputs": [
    {
     "name": "stderr",
     "output_type": "stream",
     "text": [
      "/Users/wissmann/py37/lib/python3.7/site-packages/pyopencl/cffi_cl.py:1521: CompilerWarning: Non-empty compiler output encountered. Set the environment variable PYOPENCL_COMPILER_OUTPUT=1 to see more.\n",
      "  \"to see more.\", CompilerWarning)\n"
     ]
    },
    {
     "name": "stdout",
     "output_type": "stream",
     "text": [
      "vertices (3038, 3)\n",
      "vertices (2, 3038, 3)\n",
      "m <spimagine.gui.mesh.Mesh object at 0x15cf23b00>\n",
      "m <spimagine.gui.mesh.Mesh object at 0x15cf23c88>\n"
     ]
    }
   ],
   "source": [
    "vis.show_frame(f=0, show_union=False, show_single=True, \n",
    "                   stackUnits=[1.,1.,1.], raise_window=True, export=False, stitch=False)"
   ]
  },
  {
   "cell_type": "code",
   "execution_count": 9,
   "metadata": {},
   "outputs": [
    {
     "name": "stdout",
     "output_type": "stream",
     "text": [
      "(1, 2, 3038, 3)\n",
      "in process (2, 40, 2, 3)\n",
      "(80, 2, 3)\n",
      "(80, 2, 2)\n",
      "in process (2,)\n",
      "(118, 2, 3)\n",
      "(118, 2, 2)\n",
      "in process (2, 79, 2, 3)\n",
      "(158, 2, 3)\n",
      "(158, 2, 2)\n",
      "in process (2,)\n",
      "(111, 2, 3)\n",
      "(111, 2, 2)\n"
     ]
    }
   ],
   "source": [
    "z_extents = [180,181]\n",
    "z_levels  = np.arange(z_extents[0],z_extents[1]+1, step=1)\n",
    "vis.show_sections(f=0,plane_orig=[0,0,0], plane_normal=[0,1,0], num_slices=z_levels,show_image=True) #in [x,y,z]"
   ]
  },
  {
   "cell_type": "code",
   "execution_count": null,
   "metadata": {},
   "outputs": [],
   "source": []
  }
 ],
 "metadata": {
  "kernelspec": {
   "display_name": "Python 3",
   "language": "python",
   "name": "python3"
  },
  "language_info": {
   "codemirror_mode": {
    "name": "ipython",
    "version": 3
   },
   "file_extension": ".py",
   "mimetype": "text/x-python",
   "name": "python",
   "nbconvert_exporter": "python",
   "pygments_lexer": "ipython3",
   "version": "3.7.0"
  }
 },
 "nbformat": 4,
 "nbformat_minor": 2
}
