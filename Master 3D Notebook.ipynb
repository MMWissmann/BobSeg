{
 "cells": [
  {
   "cell_type": "markdown",
   "metadata": {},
   "source": [
    "# Generate Segmentation Images based on NetSurfaceProblem"
   ]
  },
  {
   "cell_type": "code",
   "execution_count": 1,
   "metadata": {
    "scrolled": true
   },
   "outputs": [
    {
     "name": "stderr",
     "output_type": "stream",
     "text": [
      "WARNING:trimesh | searching for scad in: /Users/wissmann/py37/bin:/Users/wissmann/py37/bin:/usr/local/bin:/usr/bin:/bin:/usr/sbin:/sbin:/Applications/OpenSCAD.app/Contents/MacOS\n",
      "WARNING:trimesh | searching for blender in: /Users/wissmann/py37/bin:/Users/wissmann/py37/bin:/usr/local/bin:/usr/bin:/bin:/usr/sbin:/sbin:/Applications/blender.app/Contents/MacOS:/Applications/Blender/blender.app/Contents/MacOS\n",
      "WARNING:trimesh | No FCL -- collision checking will not work\n",
      "WARNING:trimesh | SVG path loading unavailable!\n"
     ]
    }
   ],
   "source": [
    "%matplotlib qt\n",
    "\n",
    "import time\n",
    "import copy\n",
    "import numpy as np\n",
    "from skimage.filters import gaussian\n",
    "\n",
    "from tifffile import imread, imsave\n",
    "import _pickle as pickle\n",
    "\n",
    "import matplotlib.pyplot as plt\n",
    "\n",
    "from spimagine import volfig, volshow\n",
    "from spimagine import EllipsoidMesh, Mesh\n",
    "\n",
    "%reload_ext autoreload\n",
    "%autoreload 2\n",
    "\n",
    "from Netsurface3d import NetSurf3d\n",
    "from data4d import Data4d\n",
    "from stitch_surfaces import StitchSurfaces\n",
    "from netsurface3d_radial import NetSurf3dRadial\n",
    "from data4d_radial import Data4dRadial\n",
    "from Visualization import Visualization\n",
    "from CrossSection import CrossSection"
   ]
  },
  {
   "cell_type": "markdown",
   "metadata": {},
   "source": [
    "# Load and Initialize"
   ]
  },
  {
   "cell_type": "code",
   "execution_count": 2,
   "metadata": {},
   "outputs": [],
   "source": [
    "#filenames of images and of mask have to be in same order\n",
    "\n",
    "#filenames = [ '/Users/wissmann/BobSeg/FlySegCropped.tif']\n",
    "#filenames = [ '/Users/wissmann/BobSeg/Cell_croppedModel-0.0.1-3D_Sim-PSF(0.2 0.2 0.6) PXS(0.1 0.1 0.1)-1.tif']\n",
    "#filenames = [ '/Users/wissmann/BobSeg/Vecad-flidsRed-48hpf.lif - fish1-48hpf-1.tif']\n",
    "#filenames_mask = np.array([['/Users/wissmann/BobSeg/fish_mask.tif','/Users/wissmann/BobSeg/fish_mask_y_end.tif',None]])\n",
    "filenames= ['/Users/wissmann/BobSeg/20180718_ecadgfp_0hAPF_disc05_cropped.tif']\n",
    "filenames_mask = np.array([['/Users/wissmann/BobSeg/wing_mask_z.tif','/Users/wissmann/BobSeg/wing_mask_y.tif',None]])\n",
    "#filenames = [ '/Users/wissmann/BobSeg/easy2surfaces.tif']\n",
    "#filenames_mask = [ '/Users/wissmann/BobSeg/easymask.tif']\n",
    "#filenames = [ '/Users/wissmann/BobSeg/HyperStack.tif']\n",
    "#filenames = [ '/Users/wissmann/BobSeg/HyperStack3.tif']\n",
    "#filenames = [ '/Users/wissmann/BobSeg/debugdx.tif']\n",
    "#filenames = ['/Users/wissmann/BobSeg/nonquadratictest.tif']"
   ]
  },
  {
   "cell_type": "code",
   "execution_count": 3,
   "metadata": {},
   "outputs": [],
   "source": [
    "#Methods : [' z  ,  y ,  x , rad']\n",
    "chosen  =  [  1  ,  1 ,  0 ,  0  ]\n",
    "\n",
    "#if you change chosen, Kernel restart is required"
   ]
  },
  {
   "cell_type": "code",
   "execution_count": 17,
   "metadata": {},
   "outputs": [],
   "source": [
    "# Parameters for Netsurf with Base Graph\n",
    "#             [ z, y, x]\n",
    "K           = [50,700,30]                 \n",
    "max_delta_k = [4 , 3, 2]\n",
    "dx          = [20,20, 4]\n",
    "dy          = [20, 4,10]\n",
    "surfaces    = [ 1, 2, 2]\n",
    "min_dist    = [ 6, 20, 2]                 #In terms of K\n",
    "max_dist    = [50,100,50]                 #In terms of K\n",
    "plot_base_graph =False\n",
    "#create column from.. to..\n",
    "c_from      = [ 0, 320, 0] \n",
    "c_to        = [ 0, 1180, 0]          #TODO (atm always -top- border of image)"
   ]
  },
  {
   "cell_type": "code",
   "execution_count": 18,
   "metadata": {},
   "outputs": [],
   "source": [
    "# Parameters for Radial Netsurf\n",
    "K_Rad            = 40\n",
    "max_delta_k_rad  = 3\n",
    "max_rs           = (800,740,220)                                   #In px (x,y,z)\n",
    "min_rs           = (1,1,1)                                         #In px (x,y,z)\n",
    "centers          = [(500,500,100),(200,200,100)]                   #In px (x,y,z)"
   ]
  },
  {
   "cell_type": "markdown",
   "metadata": {},
   "source": [
    "# Segmentation"
   ]
  },
  {
   "cell_type": "code",
   "execution_count": null,
   "metadata": {},
   "outputs": [
    {
     "name": "stdout",
     "output_type": "stream",
     "text": [
      "Dimensions (z,y,x) of frame 0 :  (151, 1437, 1479)\n",
      "Searching for surface(s) along z direction\n",
      "Dimensions (y,x) of mask 0 :  (1437, 1479)\n",
      "Added appearance for \"Bg_0\" in frame 0\n",
      "Number of columns: 3115\n",
      "Number of Surfaces: 1\n",
      "Done with surface 0\n",
      "Elapsed time is 8.899250984191895 seconds.\n",
      "      Optimum energy:  5025846.0\n",
      "      Nodes in/out:  83622 72128\n",
      "Dimensions (z,y,x) of frame 0 :  (151, 1437, 1479)\n",
      "Searching for surface(s) along y direction\n",
      "Changing y and z axis\n",
      "New dimensions (z,y,x) of frame 0 : (1437, 151, 1479)\n",
      "Dimensions (y,x) of mask 0 :  (151, 1479)\n",
      "Added appearance for \"Bg_1\" in frame 0\n",
      "Number of columns: 1717\n",
      "Number of Surfaces: 2\n",
      "Done with surface 0\n",
      "Elapsed time is 63.42220091819763 seconds.\n"
     ]
    }
   ],
   "source": [
    "data={}\n",
    "Bg={}\n",
    "Ra={}\n",
    "\n",
    "#Base graph\n",
    "for i in range(3):\n",
    "    if chosen[i]==1:\n",
    "        data[i]=Data4d(filenames, axis=i, filenames_mask=filenames_mask[:,i], pixelsize=(1.,1.,1.), silent=False, plane=None )\n",
    "        data[i].set_seg_params(K[i],max_delta_k[i],dx[i],dy[i],surfaces[i],min_dist[i],max_dist[i])\n",
    "        Bg[i] = data[i].init_object(\"Bg_%s\"%i)\n",
    "        data[i].add_object_at( Bg[i], c_from[i], c_to[i], frame=0, frame_to=0, segment_it=True, plot_base_graph=plot_base_graph )\n",
    "    else: data[i]=None\n",
    "        \n",
    "#Radial\n",
    "if chosen[3]==1:\n",
    "    data[3]=Data4dRadial( filenames, pixelsize=(1.,1.,1.), silent=False )\n",
    "    data[3].set_seg_params(K_Rad,max_delta_k_rad)\n",
    "    for center in range(len(centers)):\n",
    "        Ra[center]=data[3].init_object(\"Ra_%s\"%center)\n",
    "        data[3].add_object_at(Ra[center], min_rs, max_rs, frame=0, seed=centers[center], frame_to=0, segment_it=True )\n",
    "else: data[3]=None\n",
    "    \n",
    "data[5]=Data4d(filenames, axis=0, filenames_mask=filenames_mask[:,0], pixelsize=(1.,1.,1.), silent=True, plane=None )\n",
    "images=data[5].images"
   ]
  },
  {
   "cell_type": "markdown",
   "metadata": {},
   "source": [
    "# Visualization\n",
    "    Colour code for both 3d visualization and 2d cross-section plots: \n",
    "        Base graph (x,y,z): (green,blue,gold)\n",
    "        Radial            : red"
   ]
  },
  {
   "cell_type": "code",
   "execution_count": null,
   "metadata": {},
   "outputs": [],
   "source": [
    "vis = Visualization(data, images)"
   ]
  },
  {
   "cell_type": "markdown",
   "metadata": {},
   "source": [
    "### 3D Visualization    \n",
    "     \n",
    "    show_single: shows all meshes from all chosen netsurf possibilities\n",
    "    show_union: shows one union mesh of the single meshes in new window \n",
    "          (only makes sense in case of one main mesh and several small for with masks specified areas) TODO\n",
    "    export: exports meshes as .obj files e.g. to be opened in blender\n",
    "    stitch: in case of base graph with more than 1 surface, stitches the surfaces together to simulate volume\n",
    "        setting stitch to True applies for all base graph netsurfs"
   ]
  },
  {
   "cell_type": "code",
   "execution_count": null,
   "metadata": {},
   "outputs": [],
   "source": [
    "vis.show_frame(f=0, stackUnits=[1.,1.,1.], show_single=True, show_union=False, export=False, stitch=False)"
   ]
  },
  {
   "cell_type": "markdown",
   "metadata": {},
   "source": [
    "### 2D Cross-Sections\n",
    "    plane_normal: so far only axis-parallel vectors possible"
   ]
  },
  {
   "cell_type": "code",
   "execution_count": 15,
   "metadata": {},
   "outputs": [],
   "source": [
    "from_slice = 520\n",
    "to_slice   = 520\n",
    "levels  = np.arange(from_slice, to_slice+1, step=1)"
   ]
  },
  {
   "cell_type": "code",
   "execution_count": 16,
   "metadata": {},
   "outputs": [
    {
     "name": "stdout",
     "output_type": "stream",
     "text": [
      "(1, 2, 3115, 3)\n",
      "(1, 2, 1717, 3)\n"
     ]
    }
   ],
   "source": [
    "vis.show_sections(f=0,plane_orig=[0,0,0], plane_normal=[1,0,0], num_slices=levels, show_image=True) #in [x,y,z]"
   ]
  },
  {
   "cell_type": "code",
   "execution_count": null,
   "metadata": {},
   "outputs": [],
   "source": []
  }
 ],
 "metadata": {
  "kernelspec": {
   "display_name": "Python 3",
   "language": "python",
   "name": "python3"
  },
  "language_info": {
   "codemirror_mode": {
    "name": "ipython",
    "version": 3
   },
   "file_extension": ".py",
   "mimetype": "text/x-python",
   "name": "python",
   "nbconvert_exporter": "python",
   "pygments_lexer": "ipython3",
   "version": "3.7.0"
  }
 },
 "nbformat": 4,
 "nbformat_minor": 2
}
