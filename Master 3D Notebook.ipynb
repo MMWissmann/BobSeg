{
 "cells": [
  {
   "cell_type": "markdown",
   "metadata": {},
   "source": [
    "# Generate Segmentation Images based on NetSurfaceProblem"
   ]
  },
  {
   "cell_type": "code",
   "execution_count": 7,
   "metadata": {
    "scrolled": true
   },
   "outputs": [
    {
     "name": "stderr",
     "output_type": "stream",
     "text": [
      "WARNING:trimesh | searching for scad in: /Users/wissmann/py37/bin:/Users/wissmann/py37/bin:/Users/wissmann/py37/bin/miniconda3/bin:/Users/wissmann/miniconda3/bin:/usr/local/bin:/usr/bin:/bin:/usr/sbin:/sbin:/opt/X11/bin:/Applications/OpenSCAD.app/Contents/MacOS\n",
      "WARNING:trimesh | searching for blender in: /Users/wissmann/py37/bin:/Users/wissmann/py37/bin:/Users/wissmann/py37/bin/miniconda3/bin:/Users/wissmann/miniconda3/bin:/usr/local/bin:/usr/bin:/bin:/usr/sbin:/sbin:/opt/X11/bin:/Applications/blender.app/Contents/MacOS:/Applications/Blender/blender.app/Contents/MacOS\n",
      "WARNING:trimesh | No FCL -- collision checking will not work\n"
     ]
    }
   ],
   "source": [
    "\"\"\"\n",
    "To make sure, the visualization part works, start jupyter notebook with the command:\n",
    "$ jupyter notebook --NotebookApp.iopub_data_rate_limit=10000000\n",
    "or change the data rate limit in the config file\n",
    "\"\"\"\n",
    "\n",
    "%matplotlib qt\n",
    "\n",
    "import time\n",
    "import copy\n",
    "import numpy as np\n",
    "from skimage.filters import gaussian\n",
    "\n",
    "from tifffile import imread, imsave\n",
    "import _pickle as pickle\n",
    "\n",
    "import matplotlib.pyplot as plt\n",
    "\n",
    "from spimagine import volfig, volshow\n",
    "from spimagine import EllipsoidMesh, Mesh\n",
    "\n",
    "%reload_ext autoreload\n",
    "%autoreload 2\n",
    "\n",
    "from Netsurface3d import NetSurf3d\n",
    "from data4d import Data4d\n",
    "from stitch_surfaces import StitchSurfaces\n",
    "from netsurface3d_radial import NetSurf3dRadial\n",
    "from data4d_radial import Data4dRadial\n",
    "from Visualization import Visualization\n",
    "from CrossSection import CrossSection"
   ]
  },
  {
   "cell_type": "markdown",
   "metadata": {},
   "source": [
    "# Load and Initialize"
   ]
  },
  {
   "cell_type": "code",
   "execution_count": 8,
   "metadata": {},
   "outputs": [],
   "source": [
    "#filenames of images and of mask have to be in same order\n",
    "\n",
    "#filenames = [ '/Users/wissmann/BobSeg/FlySegCropped.tif']\n",
    "#filenames = [ '/Users/wissmann/BobSeg/Cell_croppedModel-0.0.1-3D_Sim-PSF(0.2 0.2 0.6) PXS(0.1 0.1 0.1)-1.tif']\n",
    "filenames = [ '/Users/wissmann/BobSeg/Vecad-flidsRed-48hpf.lif - fish1-48hpf-1.tif']\n",
    "#filenames = [ '/Users/wissmann/BobSeg/s1e2_High.tif']\n",
    "filenames_mask =[None,None,None]\n",
    "#filenames_mask =np.array(['/Users/wissmann/BobSeg/tribo_mask.tif','/Users/wissmann/BobSeg/tribo_mask_y.tif','/Users/wissmann/BobSeg/tribo_mask_x.tif'])\n",
    "#filenames_mask = np.array(['/Users/wissmann/BobSeg/fish_mask.tif','/Users/wissmann/BobSeg/fish_mask_y_end.tif','/Users/wissmann/BobSeg/fish_mask_x_end.tif'])\n",
    "#filenames= ['/Users/wissmann/BobSeg/20180718_ecadgfp_0hAPF_disc05_cropped.tif']\n",
    "#filenames_mask = np.array(['/Users/wissmann/BobSeg/wing_mask_z.tif','/Users/wissmann/BobSeg/wing_mask_y-2.tif',None])\n",
    "#filenames = [ '/Users/wissmann/BobSeg/easy2surfaces.tif']\n",
    "#filenames = ['/Users/wissmann/BobSeg/easypeasy2.tif']\n",
    "#filenames_mask = [ '/Users/wissmann/BobSeg/easymask.tif']\n",
    "#filenames = [ '/Users/wissmann/BobSeg/HyperStack.tif']\n",
    "#filenames = [ '/Users/wissmann/BobSeg/HyperStack3.tif']\n",
    "#filenames = [ '/Users/wissmann/BobSeg/debugdx.tif']\n",
    "#filenames = ['/Users/wissmann/BobSeg/nonquadratictest.tif']"
   ]
  },
  {
   "cell_type": "code",
   "execution_count": 9,
   "metadata": {},
   "outputs": [],
   "source": [
    "#Methods : [' z  ,  y ,  x , rad']\n",
    "chosen  =  [  0  ,  0 ,  0 ,  1  ]\n",
    "\n",
    "#if you change chosen, Kernel restart is required"
   ]
  },
  {
   "cell_type": "code",
   "execution_count": 10,
   "metadata": {},
   "outputs": [],
   "source": [
    "# Parameters for Netsurf with Base Graph\n",
    "#             [ z, y, x]\n",
    "K           = [70,100,100]                 \n",
    "max_delta_k = [5 , 4, 4]\n",
    "dx          = [20, 20, 10]\n",
    "dy          = [20, 10, 20]\n",
    "surfaces    = [ 2, 2, 2]\n",
    "min_dist    = [ 5, 5, 5]                 #In terms of K\n",
    "max_dist    = [60,80,80]                 #In terms of K\n",
    "plot_base_graph =False\n",
    "#create column from.. to..\n",
    "c_from      = [ 0, 0, 0] \n",
    "c_to        = [ 0, 0, 0]          #TODO (atm always -top- border of image)"
   ]
  },
  {
   "cell_type": "code",
   "execution_count": 22,
   "metadata": {},
   "outputs": [],
   "source": [
    "# Parameters for Radial Netsurf\n",
    "K_Rad            = 100\n",
    "max_delta_k_rad  = 4\n",
    "max_rs           = [(700,700,70),(700,700,200)]                                   #In px (x,y,z)\n",
    "min_rs           = (1,1,1)                                         #In px (x,y,z)\n",
    "centers          = [(500,500,140),(200,200,100)]                   #In px (x,y,z)"
   ]
  },
  {
   "cell_type": "markdown",
   "metadata": {},
   "source": [
    "# Segmentation"
   ]
  },
  {
   "cell_type": "code",
   "execution_count": 23,
   "metadata": {},
   "outputs": [
    {
     "name": "stdout",
     "output_type": "stream",
     "text": [
      "Dimensions of frame 0 :  (213, 738, 792)\n",
      "Added appearance for \"Ra_0\" in frame 0 with seed coordinates [500. 500. 140.]\n",
      "      Optimum energy:  24321.0\n",
      "      Nodes in/out:  19468 31732\n",
      "Added appearance for \"Ra_1\" in frame 0 with seed coordinates [200. 200. 100.]\n",
      "      Optimum energy:  27305.0\n",
      "      Nodes in/out:  11830 39370\n",
      "filenames_mask None\n"
     ]
    }
   ],
   "source": [
    "data={}\n",
    "Bg={}\n",
    "Ra={}\n",
    "\n",
    "#Base graph\n",
    "for i in range(3):\n",
    "    if chosen[i]==1:\n",
    "        data[i]=Data4d(filenames, axis=i, filenames_mask=filenames_mask[i], pixelsize=(1.,1.,1.), silent=False, plane=None )\n",
    "        data[i].set_seg_params(K[i],max_delta_k[i],dx[i],dy[i],surfaces[i],min_dist[i],max_dist[i])\n",
    "        Bg[i] = data[i].init_object(\"Bg_%s\"%i)\n",
    "        data[i].add_object_at( Bg[i], c_from[i], c_to[i], frame=0, frame_to=0, segment_it=True, plot_base_graph=plot_base_graph )\n",
    "    else: data[i]=None\n",
    "        \n",
    "#Radial\n",
    "if chosen[3]==1:\n",
    "    data[3]=Data4dRadial( filenames, pixelsize=(1.,1.,1.), silent=False )\n",
    "    data[3].set_seg_params(K_Rad,max_delta_k_rad)\n",
    "    for center in range(len(centers)):\n",
    "        Ra[center]=data[3].init_object(\"Ra_%s\"%center)\n",
    "        data[3].add_object_at(Ra[center], min_rs, max_rs[center], frame=0, seed=centers[center], frame_to=0, segment_it=True )\n",
    "else: data[3]=None\n",
    "    \n",
    "data[5]=Data4d(filenames, axis=0, filenames_mask=filenames_mask[0], pixelsize=(1.,1.,1.), silent=True, plane=None )\n",
    "images=data[5].images"
   ]
  },
  {
   "cell_type": "markdown",
   "metadata": {},
   "source": [
    "# Visualization\n",
    "    Colour code for both 3d visualization and 2d cross-section plots: \n",
    "        Base graph (z,y,x): (green,blue,gold)\n",
    "        Radial            : red"
   ]
  },
  {
   "cell_type": "code",
   "execution_count": 24,
   "metadata": {},
   "outputs": [],
   "source": [
    "\"\"\"\n",
    "positions of base-graph meshes (i.e. surface meshes) with respect to the whole object:\n",
    "   ! (only needed in case you want show_union=True) !\n",
    "ou : outermost 'upper' surface (e.g. membrane), \n",
    "ol : outermost 'lower' surface,    \n",
    "iu : inner 'upper'\n",
    "il : inner 'lower'\n",
    "\n",
    "'upper' and 'lower' refer to the respective direction of the base graph (e.g. y for the y-method)\n",
    "\"\"\"\n",
    "\n",
    "#methods        =       z.       y.     x\n",
    "#mesh_positions = [['ou','ol'],['ou'],['ol']]\n",
    "mesh_positions = [['ou','ol'],['ou','ol'],['ou','ol']]"
   ]
  },
  {
   "cell_type": "code",
   "execution_count": 25,
   "metadata": {},
   "outputs": [
    {
     "name": "stdout",
     "output_type": "stream",
     "text": [
      "{}\n"
     ]
    }
   ],
   "source": [
    "vis = Visualization(data, images, mesh_positions)"
   ]
  },
  {
   "cell_type": "markdown",
   "metadata": {},
   "source": [
    "### 3D Visualization    \n",
    "     \n",
    "    show_single: shows all meshes from all chosen netsurf possibilities\n",
    "    show_union: shows one union mesh of the single meshes in new window  TODO\n",
    "    export: exports meshes as .obj files e.g. to be opened in blender\n",
    "    stitch: in case of base graph with more than 1 surface, stitches the surfaces together to simulate volume"
   ]
  },
  {
   "cell_type": "code",
   "execution_count": 26,
   "metadata": {},
   "outputs": [
    {
     "name": "stderr",
     "output_type": "stream",
     "text": [
      "INFO:spimagine.gui.glwidget | saving frame as /Users/wissmann/BobSeg/fish_rad_new.png\n"
     ]
    }
   ],
   "source": [
    "vis.show_frame(f=0, stackUnits=[1.,1.,1.], show_single=True, show_union=False, export=False, stitch=[False,False,False])"
   ]
  },
  {
   "cell_type": "markdown",
   "metadata": {},
   "source": [
    "### 2D Cross-Sections\n",
    "    plane_normal: so far only axis-parallel vectors possible ( [1,0,0], [0,1,0], [0,0,1] )"
   ]
  },
  {
   "cell_type": "code",
   "execution_count": 27,
   "metadata": {},
   "outputs": [],
   "source": [
    "from_slice = 750\n",
    "to_slice   = 750\n",
    "levels  = np.arange(from_slice, to_slice+1, step=1)\n",
    "#Kernel restart required for new images"
   ]
  },
  {
   "cell_type": "code",
   "execution_count": 29,
   "metadata": {},
   "outputs": [
    {
     "name": "stdout",
     "output_type": "stream",
     "text": [
      "(1,)\n",
      "()\n",
      "(1, 1, 19, 2, 3)\n",
      "(1, 19, 2, 3)\n"
     ]
    }
   ],
   "source": [
    "vis.show_sections(f=0,plane_orig=[0,0,0], plane_normal=[1,0,0], num_slices=levels, show_image=True) #in [x,y,z]"
   ]
  },
  {
   "cell_type": "code",
   "execution_count": null,
   "metadata": {},
   "outputs": [],
   "source": []
  }
 ],
 "metadata": {
  "kernelspec": {
   "display_name": "Python 3",
   "language": "python",
   "name": "python3"
  },
  "language_info": {
   "codemirror_mode": {
    "name": "ipython",
    "version": 3
   },
   "file_extension": ".py",
   "mimetype": "text/x-python",
   "name": "python",
   "nbconvert_exporter": "python",
   "pygments_lexer": "ipython3",
   "version": "3.7.0"
  }
 },
 "nbformat": 4,
 "nbformat_minor": 2
}
