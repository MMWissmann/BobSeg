{
 "cells": [
  {
   "cell_type": "code",
   "execution_count": 1,
   "metadata": {},
   "outputs": [],
   "source": [
    "%matplotlib qt\n",
    "\n",
    "import time\n",
    "import copy\n",
    "import numpy as np\n",
    "from skimage.filters import gaussian\n",
    "\n",
    "from tifffile import imread, imsave\n",
    "import _pickle as pickle\n",
    "\n",
    "import matplotlib.pyplot as plt\n",
    "\n",
    "from spimagine import volfig, volshow\n",
    "from spimagine import EllipsoidMesh, Mesh\n",
    "\n",
    "%reload_ext autoreload\n",
    "%autoreload 2\n",
    "\n",
    "from netsurface3d_radial import NetSurf3dRadial\n",
    "from data4d_radial import Data4dRadial"
   ]
  },
  {
   "cell_type": "markdown",
   "metadata": {},
   "source": [
    "# Load time-lapse data..."
   ]
  },
  {
   "cell_type": "code",
   "execution_count": 2,
   "metadata": {},
   "outputs": [],
   "source": [
    "#filenames = [ '/home/wissmann/Cell_Model-0.0.1-3D_Sim-PSF(0.2 0.2 0.6) PXS(0.1 0.1 0.1).tif']\n",
    "#filenames = [ '/Users/wissmann/BobSeg/Cell_croppedModel-0.0.1-3D_Sim-PSF(0.2 0.2 0.6) PXS(0.1 0.1 0.1).tif']\n",
    "filenames = [ '/Users/wissmann/BobSeg/Vecad-flidsRed-48hpf.lif - fish1-48hpf-1.tif']\n",
    "#    '/Users/micha/Desktop/Uni und so/CBG HiWi/Membrane Localization/Cell_Model-0.0.1-3D_Sim-PSF(0.2 0.2 0.6) PXS(0.1 0.1 0.1).tif']\n",
    "#             '/Users/jug/Dropbox/ProjectGoldstein/2016-09-22_fromMark/092216_PH-mCherry-02_w2SD mCherry_t1.TIF'] #,\n",
    "#             '/Users/jug/Dropbox/ProjectGoldstein/2016-09-22_fromMark/092216_PH-mCherry-02_w2SD mCherry_t2.TIF',\n",
    "#             '/Users/jug/Dropbox/ProjectGoldstein/2016-09-22_fromMark/092216_PH-mCherry-02_w2SD mCherry_t3.TIF',\n",
    "#             '/Users/jug/Dropbox/ProjectGoldstein/2016-09-22_fromMark/092216_PH-mCherry-02_w2SD mCherry_t4.TIF',\n",
    "#             '/Users/jug/Dropbox/ProjectGoldstein/2016-09-22_fromMark/092216_PH-mCherry-02_w2SD mCherry_t5.TIF',\n",
    "#             '/Users/jug/Dropbox/ProjectGoldstein/2016-09-22_fromMark/092216_PH-mCherry-02_w2SD mCherry_t6.TIF',\n",
    "#             '/Users/jug/Dropbox/ProjectGoldstein/2016-09-22_fromMark/092216_PH-mCherry-02_w2SD mCherry_t7.TIF',\n",
    "#             '/Users/jug/Dropbox/ProjectGoldstein/2016-09-22_fromMark/092216_PH-mCherry-02_w2SD mCherry_t8.TIF',\n",
    "#             '/Users/jug/Dropbox/ProjectGoldstein/2016-09-22_fromMark/092216_PH-mCherry-02_w2SD mCherry_t9.TIF',\n",
    "#             '/Users/jug/Dropbox/ProjectGoldstein/2016-09-22_fromMark/092216_PH-mCherry-02_w2SD mCherry_t10.TIF',\n",
    "#             '/Users/jug/Dropbox/ProjectGoldstein/2016-09-22_fromMark/092216_PH-mCherry-02_w2SD mCherry_t11.TIF',\n",
    "#             '/Users/jug/Dropbox/ProjectGoldstein/2016-09-22_fromMark/092216_PH-mCherry-02_w2SD mCherry_t12.TIF']\n",
    "#filename = '/Users/micha/Desktop/Uni und so/CBG HiWi/Downloads/MAX_LP320-06-08_Concat-51-100.tif'\n",
    "#filename = '/Users/micha/Desktop/Uni und so/CBG HiWi/Membrane Localization/Cell_Model-0.0.1-3D_Sim-PSF(0.2 0.2 0.6) PXS(0.1 0.1 0.1).tif'\n",
    "#filename = '/Users/micha/Desktop/Uni und so/CBG HiWi/Membrane Localization/Cell_Model-0.0.1(wave)-3D_Sim-PSF(0.2 0.2 0.6) PXS(0.1 0.1 0.1).tif'\n",
    "#filename = '/Users/micha/Desktop/Uni und so/CBG HiWi/Membrane Localization/Cell_Model-0.0.1(wave)-3D_Sim-PSF(0.07 0.07 0.60) PXS(0.03 0.03 0.10).tif'"
   ]
  },
  {
   "cell_type": "code",
   "execution_count": 13,
   "metadata": {
    "scrolled": true
   },
   "outputs": [
    {
     "name": "stdout",
     "output_type": "stream",
     "text": [
      "Dimensions of frame 0 :  (213, 738, 792)\n"
     ]
    }
   ],
   "source": [
    "data = Data4dRadial( filenames, pixelsize=(1.,1.,1.), silent=False )\n",
    "data.set_seg_params(K=80,max_delta_k=3)\n",
    "objects = []\n",
    "ecells = []"
   ]
  },
  {
   "cell_type": "markdown",
   "metadata": {},
   "source": [
    "Min radius and max radius at which to look for cells (around center points (seed points))"
   ]
  },
  {
   "cell_type": "code",
   "execution_count": 44,
   "metadata": {},
   "outputs": [],
   "source": [
    "max_rs = (data.images[0].shape[2] / 2+20,\n",
    "        data.images[0].shape[1] / 2+20,\n",
    "        data.images[0].shape[0] / 2)\n",
    "\n",
    "#max_rs=(600,600,100)\n",
    "\n",
    "min_rs = (1,1,1)"
   ]
  },
  {
   "cell_type": "markdown",
   "metadata": {},
   "source": [
    "## adding E cells"
   ]
  },
  {
   "cell_type": "code",
   "execution_count": 45,
   "metadata": {},
   "outputs": [],
   "source": [
    "Ea = data.init_object(\"Ea\")\n",
    "objects.append(Ea)\n",
    "ecells.append(Ea)\n",
    "\n",
    "Ep = data.init_object(\"Ep\")\n",
    "objects.append(Ep)\n",
    "ecells.append(Ep)"
   ]
  },
  {
   "cell_type": "code",
   "execution_count": 46,
   "metadata": {
    "scrolled": true
   },
   "outputs": [
    {
     "name": "stdout",
     "output_type": "stream",
     "text": [
      "Added appearance for \"Ea\" in frame 0 with seed coordinates [200. 200. 100.]\n",
      "      Optimum energy:  25403.0\n",
      "      Nodes in/out:  15538 25422\n"
     ]
    }
   ],
   "source": [
    "data.add_object_at( Ea, min_rs, max_rs, frame=0, seed=(200,200,100), frame_to=0, segment_it=True )\n",
    "#data.track(Ea, seed_frame=0, target_frames=range(1,len(data.images)), recenter_iterations=3)"
   ]
  },
  {
   "cell_type": "code",
   "execution_count": 47,
   "metadata": {
    "scrolled": true
   },
   "outputs": [
    {
     "name": "stdout",
     "output_type": "stream",
     "text": [
      "Added appearance for \"Ep\" in frame 0 with seed coordinates [500. 500. 100.]\n",
      "      Optimum energy:  23542.0\n",
      "      Nodes in/out:  28849 12111\n"
     ]
    }
   ],
   "source": [
    "data.add_object_at( Ep, min_rs, max_rs, frame=0, seed=(500,500,100), frame_to=0, segment_it=True )\n",
    "# data.add_object_at( Ep, min_rs, max_rs, frame=0, seed=(110,350,12), segment_it=True )\n",
    "# data.track(Ep, seed_frame=0, target_frames=range(1,len(data.images)), recenter_iterations=1)"
   ]
  },
  {
   "cell_type": "code",
   "execution_count": 48,
   "metadata": {},
   "outputs": [
    {
     "name": "stdout",
     "output_type": "stream",
     "text": [
      "<netsurface3d_radial.NetSurf3dRadial object at 0x131273748>\n",
      "<netsurface3d_radial.NetSurf3dRadial object at 0x131273828>\n"
     ]
    }
   ],
   "source": [
    "w = data.show_frame(0,show_surfaces=True,stackUnits=[1.,1.,1.],raise_window=True)"
   ]
  },
  {
   "cell_type": "markdown",
   "metadata": {},
   "source": [
    "## adding direct neighbors"
   ]
  },
  {
   "cell_type": "code",
   "execution_count": 19,
   "metadata": {},
   "outputs": [],
   "source": [
    "neighbors = []\n",
    "for i in range(12):\n",
    "    n = data.init_object(\"n\"+str(i))\n",
    "    objects.append(n)\n",
    "    neighbors.append(n)"
   ]
  },
  {
   "cell_type": "code",
   "execution_count": 20,
   "metadata": {
    "scrolled": true
   },
   "outputs": [
    {
     "name": "stdout",
     "output_type": "stream",
     "text": [
      "Added appearance for \"n0\" in frame 0 with seed coordinates [ 90. 390.  12.]\n",
      "      Optimum energy:  0.0\n",
      "      Nodes in/out:  15360 0\n",
      "Added appearance for \"n1\" in frame 0 with seed coordinates [150. 410.  12.]\n",
      "      Optimum energy:  0.0\n",
      "      Nodes in/out:  15360 0\n",
      "Added appearance for \"n2\" in frame 0 with seed coordinates [200. 390.  12.]\n",
      "      Optimum energy:  0.0\n",
      "      Nodes in/out:  15360 0\n",
      "Added appearance for \"n3\" in frame 0 with seed coordinates [190. 315.  12.]\n",
      "      Optimum energy:  0.0\n",
      "      Nodes in/out:  15360 0\n",
      "Added appearance for \"n4\" in frame 0 with seed coordinates [145. 265.  12.]\n",
      "      Optimum energy:  0.0\n",
      "      Nodes in/out:  15360 0\n",
      "Added appearance for \"n5\" in frame 0 with seed coordinates [110. 230.  12.]\n",
      "      Optimum energy:  0.0\n",
      "      Nodes in/out:  15360 0\n",
      "Added appearance for \"n6\" in frame 0 with seed coordinates [ 40. 255.  12.]\n",
      "      Optimum energy:  0.0\n",
      "      Nodes in/out:  15360 0\n",
      "Added appearance for \"n7\" in frame 0 with seed coordinates [ 45. 300.  18.]\n",
      "      Optimum energy:  0.0\n",
      "      Nodes in/out:  15360 0\n",
      "Added appearance for \"n8\" in frame 0 with seed coordinates [ 67. 355.  18.]\n",
      "      Optimum energy:  0.0\n",
      "      Nodes in/out:  15360 0\n",
      "Added appearance for \"n9\" in frame 0 with seed coordinates [110. 275.  24.]\n",
      "      Optimum energy:  0.0\n",
      "      Nodes in/out:  15360 0\n",
      "Added appearance for \"n10\" in frame 0 with seed coordinates [130. 315.  24.]\n",
      "      Optimum energy:  0.0\n",
      "      Nodes in/out:  15360 0\n",
      "Added appearance for \"n11\" in frame 0 with seed coordinates [125. 360.  24.]\n",
      "      Optimum energy:  0.0\n",
      "      Nodes in/out:  15360 0\n"
     ]
    }
   ],
   "source": [
    "nseeds = [( 90,390,12),\n",
    "          (150,410,12),\n",
    "          (200,390,12),\n",
    "          (190,315,12),\n",
    "          (145,265,12),\n",
    "          (110,230,12),\n",
    "          ( 40,255,12),\n",
    "          ( 45,300,18),\n",
    "          ( 67,355,18),\n",
    "          (110,275,24),\n",
    "          (130,315,24),\n",
    "          (125,360,24)]\n",
    "for i in range(len(nseeds)):\n",
    "    data.add_object_at( neighbors[i], min_rs, max_rs, frame=0, seed=nseeds[i], segment_it=True )\n",
    "    data.track(neighbors[i], seed_frame=0, target_frames=range(1,len(data.images)), recenter_iterations=1)"
   ]
  },
  {
   "cell_type": "markdown",
   "metadata": {},
   "source": [
    "## adding others"
   ]
  },
  {
   "cell_type": "code",
   "execution_count": 21,
   "metadata": {},
   "outputs": [],
   "source": [
    "others = []\n",
    "for i in range(7):\n",
    "    o = data.init_object(\"o\"+str(i))\n",
    "    objects.append(o)\n",
    "    others.append(o)"
   ]
  },
  {
   "cell_type": "code",
   "execution_count": 22,
   "metadata": {
    "scrolled": true
   },
   "outputs": [
    {
     "name": "stdout",
     "output_type": "stream",
     "text": [
      "Added appearance for \"o0\" in frame 0 with seed coordinates [ 70. 205.  12.]\n",
      "      Optimum energy:  0.0\n",
      "      Nodes in/out:  15360 0\n",
      "Added appearance for \"o1\" in frame 0 with seed coordinates [145. 170.  12.]\n",
      "      Optimum energy:  433.0\n",
      "      Nodes in/out:  15169 191\n",
      "Added appearance for \"o2\" in frame 0 with seed coordinates [ 50. 160.  12.]\n",
      "      Optimum energy:  4277.0\n",
      "      Nodes in/out:  14652 708\n",
      "Added appearance for \"o3\" in frame 0 with seed coordinates [105. 140.  12.]\n",
      "      Optimum energy:  9882.0\n",
      "      Nodes in/out:  12736 2624\n",
      "Added appearance for \"o4\" in frame 0 with seed coordinates [190. 220.  12.]\n",
      "      Optimum energy:  0.0\n",
      "      Nodes in/out:  15360 0\n",
      "Added appearance for \"o5\" in frame 0 with seed coordinates [200. 265.  12.]\n",
      "      Optimum energy:  0.0\n",
      "      Nodes in/out:  15360 0\n",
      "Added appearance for \"o6\" in frame 0 with seed coordinates [220. 335.  20.]\n",
      "      Optimum energy:  0.0\n",
      "      Nodes in/out:  15360 0\n"
     ]
    }
   ],
   "source": [
    "oseeds = [( 70,205,12),\n",
    "          (145,170,12),\n",
    "          ( 50,160,12),\n",
    "          (105,140,12),\n",
    "          (190,220,12),\n",
    "          (200,265,12),\n",
    "          (220,335,20)]\n",
    "for i in range(len(oseeds)):\n",
    "    data.add_object_at( others[i], min_rs, max_rs, frame=0, seed=oseeds[i], segment_it=True )\n",
    "    data.track(others[i], seed_frame=0, target_frames=range(1,len(data.images)), recenter_iterations=1)"
   ]
  },
  {
   "cell_type": "markdown",
   "metadata": {},
   "source": [
    "# Save / Load"
   ]
  },
  {
   "cell_type": "code",
   "execution_count": null,
   "metadata": {},
   "outputs": [],
   "source": [
    "data.save('/Users/jug/Dropbox/ProjectGoldstein/2016-09-22_fromMark/092216_PH-mCherry-02_w2SD mCherry.pkl')"
   ]
  },
  {
   "cell_type": "code",
   "execution_count": null,
   "metadata": {},
   "outputs": [],
   "source": [
    "data = Data4dRadial( [], silent=False )\n",
    "data.load('/Users/jug/Dropbox/ProjectGoldstein/2016-09-22_fromMark/092216_PH-mCherry-02_w2SD mCherry.pkl')\n",
    "objects = range(len(data.object_names))\n",
    "ecells = [0,1]\n",
    "neighbors = range(2,2+12)\n",
    "others = range(2+12,2+12+7)"
   ]
  },
  {
   "cell_type": "markdown",
   "metadata": {},
   "source": [
    "# Visualisation stuff "
   ]
  },
  {
   "cell_type": "code",
   "execution_count": 12,
   "metadata": {},
   "outputs": [
    {
     "name": "stderr",
     "output_type": "stream",
     "text": [
      "/Users/wissmann/py37/lib/python3.7/site-packages/pyopencl/cffi_cl.py:1521: CompilerWarning: Non-empty compiler output encountered. Set the environment variable PYOPENCL_COMPILER_OUTPUT=1 to see more.\n",
      "  \"to see more.\", CompilerWarning)\n"
     ]
    },
    {
     "name": "stdout",
     "output_type": "stream",
     "text": [
      "<netsurface3d_radial.NetSurf3dRadial object at 0x130cb5208>\n",
      "<netsurface3d_radial.NetSurf3dRadial object at 0x130cb5278>\n"
     ]
    }
   ],
   "source": [
    "w = data.show_frame(0,show_surfaces=True,stackUnits=[1.,1.,1.],raise_window=True)\n",
    "# data.show_objects(ecells, show_surfaces=True, show_centers=True, colors=data.colors_gold)\n",
    "# try:\n",
    "#     data.show_objects(neighbors, show_surfaces=True, show_centers=True, colors=data.colors_green)\n",
    "#     data.show_objects(others, show_surfaces=True, show_centers=True, colors=data.colors_blue)\n",
    "# except:\n",
    "#     None\n",
    "#data.show_objects(neighbors, show_surfaces=True, show_centers=True, colors=data.colors_green)"
   ]
  },
  {
   "cell_type": "code",
   "execution_count": 27,
   "metadata": {},
   "outputs": [
    {
     "name": "stderr",
     "output_type": "stream",
     "text": [
      "INFO:spimagine.gui.glwidget | saving frame as 3dframes/frame0.jpg\n"
     ]
    },
    {
     "name": "stdout",
     "output_type": "stream",
     "text": [
      "Exporting frame  1 of 1\n"
     ]
    }
   ],
   "source": [
    "for f in range(len(data.images)):\n",
    "    print('Exporting frame ',f+1,'of',len(data.images))\n",
    "    w = data.show_frame(f,stackUnits=[1.,1.,5.],raise_window=False)\n",
    "    data.show_objects(ecells, show_surfaces=True, show_centers=True, colors=data.colors_gold)\n",
    "    try:\n",
    "        data.show_objects(neighbors, show_surfaces=True, show_centers=True, colors=data.colors_green)\n",
    "        data.show_objects(others, show_surfaces=True, show_centers=True, colors=data.colors_blue)\n",
    "    except:\n",
    "        None\n",
    "    data.save_current_visualization( '3dframes/frame'+str(f)+'.jpg' )"
   ]
  },
  {
   "cell_type": "code",
   "execution_count": 14,
   "metadata": {},
   "outputs": [
    {
     "data": {
      "text/plain": [
       "[0, 0, 0, 0, 0, 0, 0, 0, 0, 0, 0, 0]"
      ]
     },
     "execution_count": 14,
     "metadata": {},
     "output_type": "execute_result"
    }
   ],
   "source": [
    "data.object_volumes[Ea]"
   ]
  },
  {
   "cell_type": "code",
   "execution_count": null,
   "metadata": {
    "collapsed": true
   },
   "outputs": [],
   "source": []
  }
 ],
 "metadata": {
  "kernelspec": {
   "display_name": "Python 3",
   "language": "python",
   "name": "python3"
  },
  "language_info": {
   "codemirror_mode": {
    "name": "ipython",
    "version": 3
   },
   "file_extension": ".py",
   "mimetype": "text/x-python",
   "name": "python",
   "nbconvert_exporter": "python",
   "pygments_lexer": "ipython3",
   "version": "3.7.0"
  }
 },
 "nbformat": 4,
 "nbformat_minor": 1
}
