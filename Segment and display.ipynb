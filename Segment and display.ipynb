{
 "cells": [
  {
   "cell_type": "markdown",
   "metadata": {},
   "source": [
    "# Generate Segmentation images based on NetSurfBottom"
   ]
  },
  {
   "cell_type": "code",
   "execution_count": 40,
   "metadata": {
    "scrolled": true
   },
   "outputs": [],
   "source": [
    "%matplotlib qt\n",
    "\n",
    "import time\n",
    "import copy\n",
    "import numpy as np\n",
    "from skimage.filters import gaussian\n",
    "\n",
    "from tifffile import imread, imsave\n",
    "import _pickle as pickle\n",
    "\n",
    "import matplotlib.pyplot as plt\n",
    "\n",
    "from spimagine import volfig, volshow\n",
    "from spimagine import EllipsoidMesh, Mesh\n",
    "\n",
    "%reload_ext autoreload\n",
    "%autoreload 2\n",
    "\n",
    "from Netsurface3d import NetSurf3d\n",
    "from data4d import Data4d"
   ]
  },
  {
   "cell_type": "markdown",
   "metadata": {},
   "source": [
    "## Load and Initialize"
   ]
  },
  {
   "cell_type": "code",
   "execution_count": 50,
   "metadata": {},
   "outputs": [],
   "source": [
    "#filenames of images and of mask have to be in same order\n",
    "\n",
    "#filenames = [ '/Users/wissmann/BobSeg/Cell_croppedModel-0.0.1-3D_Sim-PSF(0.2 0.2 0.6) PXS(0.1 0.1 0.1).tif']\n",
    "filenames = [ '/Users/wissmann/BobSeg/Vecad-flidsRed-48hpf.lif - fish1-48hpf-1.tif']\n",
    "#filenames_mask = ['']\n",
    "#filenames = [ '/Users/wissmann/BobSeg/easy2surfaces.tif']\n",
    "#filenames = [ '/Users/wissmann/BobSeg/HyperStack.tif']\n",
    "#filenames = [ '/Users/wissmann/BobSeg/HyperStack3.tif']"
   ]
  },
  {
   "cell_type": "code",
   "execution_count": 51,
   "metadata": {
    "scrolled": true
   },
   "outputs": [
    {
     "name": "stdout",
     "output_type": "stream",
     "text": [
      "Dimensions of frame 0 :  (213, 738, 792)\n",
      "(215, 738, 792)\n"
     ]
    }
   ],
   "source": [
    "data = Data4d( filenames, filenames_mask=None, pixelsize=(1.,1.,1.), silent=False, plane=True )\n",
    "data.set_seg_params(K=40,max_delta_k=3,dx=10,dy=10,surfaces=2,min_dist=10,max_dist=200)\n",
    "objects = []\n",
    "ecells = []"
   ]
  },
  {
   "cell_type": "code",
   "execution_count": 52,
   "metadata": {},
   "outputs": [],
   "source": [
    "#between min_rs and max_rs the program will look for the surfaces\n",
    "max_rs = data.images[0].shape[0]\n",
    "min_rs = 0"
   ]
  },
  {
   "cell_type": "code",
   "execution_count": 53,
   "metadata": {},
   "outputs": [],
   "source": [
    "Ea = data.init_object(\"Ea\")\n",
    "objects.append(Ea)\n",
    "ecells.append(Ea)"
   ]
  },
  {
   "cell_type": "markdown",
   "metadata": {},
   "source": [
    "## Actual Segmentation"
   ]
  },
  {
   "cell_type": "code",
   "execution_count": 54,
   "metadata": {
    "scrolled": true
   },
   "outputs": [
    {
     "name": "stdout",
     "output_type": "stream",
     "text": [
      "Added appearance for \"Ea\" in frame 0\n",
      "Number of columns: 5767\n",
      "Number of Surfaces: 2\n",
      "c 0\n",
      "c 230680\n",
      "      Optimum energy:  260072.26135677678\n",
      "      Nodes in/out:  256474 204886\n"
     ]
    }
   ],
   "source": [
    "data.add_object_at( Ea, min_rs, max_rs, frame=0, frame_to=0, segment_it=True )"
   ]
  },
  {
   "cell_type": "markdown",
   "metadata": {},
   "source": [
    "## Visualization"
   ]
  },
  {
   "cell_type": "code",
   "execution_count": 55,
   "metadata": {
    "scrolled": true
   },
   "outputs": [
    {
     "name": "stderr",
     "output_type": "stream",
     "text": [
      "INFO:spimagine.volumerender.volumerender | downsample image by factor of  2\n",
      "/Users/wissmann/py37/lib/python3.7/site-packages/spimagine/volumerender/volumerender.py:251: FutureWarning: Using a non-tuple sequence for multidimensional indexing is deprecated; use `arr[tuple(seq)]` instead of `arr[seq]`. In the future this will be interpreted as an array index, `arr[np.array(seq)]`, which will result either in an error or a different result.\n",
      "  self.set_shape(_data[self.dataSlices].shape[::-1])\n",
      "/Users/wissmann/py37/lib/python3.7/site-packages/spimagine/volumerender/volumerender.py:284: FutureWarning: Using a non-tuple sequence for multidimensional indexing is deprecated; use `arr[tuple(seq)]` instead of `arr[seq]`. In the future this will be interpreted as an array index, `arr[np.array(seq)]`, which will result either in an error or a different result.\n",
      "  self._data = data[self.dataSlices].copy()\n"
     ]
    },
    {
     "name": "stdout",
     "output_type": "stream",
     "text": [
      "s 0\n",
      "myindices (11232, 3)\n",
      "ind (33696,)\n",
      "myverts (5767, 3)\n",
      "verts (33696, 3)\n",
      "normals (11232, 3, 3)\n",
      "33696\n",
      "s 1\n",
      "myindices (11232, 3)\n",
      "ind (33696,)\n",
      "myverts (5767, 3)\n",
      "verts (33696, 3)\n",
      "normals (11232, 3, 3)\n",
      "33696\n"
     ]
    }
   ],
   "source": [
    "w = data.show_frame(0,show_surfaces=True,show_centers=False, stackUnits=[1.,1.,1.],raise_window=True)"
   ]
  },
  {
   "cell_type": "markdown",
   "metadata": {},
   "source": [
    "## Save Surface points to txt file"
   ]
  },
  {
   "cell_type": "code",
   "execution_count": 201,
   "metadata": {},
   "outputs": [],
   "source": [
    "#fig = plt.figure()\n",
    "#ax = plt.axes(projection='3d')\n",
    "xdata = np.zeros(20000)\n",
    "ydata = np.zeros(20000)\n",
    "zdata = np.zeros(20000)\n",
    "#(xdata,ydata,zdata)=\n",
    "x=data.give_surface_points(0)\n",
    "\n",
    "k=0\n",
    "fh=open(\"test.txt\",\"w\")\n",
    "\n",
    "for i in x:\n",
    "    xdata[k]=x[k][0]\n",
    "    ydata[k]=x[k][1]\n",
    "    zdata[k]=x[k][2]\n",
    "    k+=1\n",
    "    if float(zdata[k])==46.0:\n",
    "        continue\n",
    "    else:\n",
    "        fh.write(str(i)[1:-1]+'\\n')\n",
    "\n",
    "xdata=xdata[xdata!=0]\n",
    "\n",
    "#ax.scatter3D(xdata, ydata, zdata, c=zdata, cmap='Greens');"
   ]
  },
  {
   "cell_type": "code",
   "execution_count": 12,
   "metadata": {},
   "outputs": [
    {
     "name": "stdout",
     "output_type": "stream",
     "text": [
      "[[1, 2, 3], [4, 5, 6], [7, 8, 9]]\n",
      "[[3, 3, 3], [1, 2, 3], [4, 5, 6], [7, 8, 9]]\n",
      "4\n"
     ]
    }
   ],
   "source": [
    "arr=[[1,2,3],[4,5,6],[7,8,9]]\n",
    "print(arr)\n",
    "arr.insert(0,[3,3,3])\n",
    "print(arr)\n",
    "print(len(arr))"
   ]
  },
  {
   "cell_type": "code",
   "execution_count": 119,
   "metadata": {},
   "outputs": [
    {
     "name": "stdout",
     "output_type": "stream",
     "text": [
      "[3, 3, 3]\n",
      "[1, 2, 3]\n",
      "[3, 3, 3]\n",
      "[4, 5, 6]\n",
      "[1, 2, 3]\n",
      "[4, 5, 6]\n",
      "[7, 8, 9]\n",
      "[1, 2, 3]\n",
      "[4, 5, 6]\n",
      "[4, 5, 6]\n"
     ]
    }
   ],
   "source": [
    "ind=[[0,1],[0,2],[1,2],[3,1],[2,2]]\n",
    "for i in ind:\n",
    "    for k in i:\n",
    "        print(arr[k])"
   ]
  },
  {
   "cell_type": "code",
   "execution_count": 228,
   "metadata": {},
   "outputs": [
    {
     "name": "stdout",
     "output_type": "stream",
     "text": [
      "[ 1  2  3  4  5  6  7  8  9 10 11 12 13]\n",
      "[1, 2, 3, 4, 5]\n"
     ]
    }
   ],
   "source": [
    "print(np.arange(1,14))\n",
    "print([1,2,3,4,5])"
   ]
  },
  {
   "cell_type": "code",
   "execution_count": null,
   "metadata": {},
   "outputs": [],
   "source": []
  }
 ],
 "metadata": {
  "kernelspec": {
   "display_name": "Python 3",
   "language": "python",
   "name": "python3"
  },
  "language_info": {
   "codemirror_mode": {
    "name": "ipython",
    "version": 3
   },
   "file_extension": ".py",
   "mimetype": "text/x-python",
   "name": "python",
   "nbconvert_exporter": "python",
   "pygments_lexer": "ipython3",
   "version": "3.7.0"
  }
 },
 "nbformat": 4,
 "nbformat_minor": 2
}
