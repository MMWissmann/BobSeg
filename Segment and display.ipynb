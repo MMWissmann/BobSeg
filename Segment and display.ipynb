{
 "cells": [
  {
   "cell_type": "markdown",
   "metadata": {},
   "source": [
    "# Generate Segmentation images based on NetSurf3d"
   ]
  },
  {
   "cell_type": "code",
   "execution_count": 1,
   "metadata": {
    "scrolled": true
   },
   "outputs": [
    {
     "name": "stderr",
     "output_type": "stream",
     "text": [
      "WARNING:trimesh | searching for scad in: /Users/wissmann/py37/bin:/Users/wissmann/py37/bin:/usr/local/bin:/usr/bin:/bin:/usr/sbin:/sbin:/Applications/OpenSCAD.app/Contents/MacOS\n",
      "WARNING:trimesh | searching for blender in: /Users/wissmann/py37/bin:/Users/wissmann/py37/bin:/usr/local/bin:/usr/bin:/bin:/usr/sbin:/sbin:/Applications/blender.app/Contents/MacOS:/Applications/Blender/blender.app/Contents/MacOS\n",
      "WARNING:trimesh | No FCL -- collision checking will not work\n",
      "WARNING:trimesh | SVG path loading unavailable!\n"
     ]
    }
   ],
   "source": [
    "%matplotlib qt\n",
    "\n",
    "import time\n",
    "import copy\n",
    "import numpy as np\n",
    "from skimage.filters import gaussian\n",
    "\n",
    "from tifffile import imread, imsave\n",
    "import _pickle as pickle\n",
    "\n",
    "import matplotlib.pyplot as plt\n",
    "\n",
    "from spimagine import volfig, volshow\n",
    "from spimagine import EllipsoidMesh, Mesh\n",
    "\n",
    "%reload_ext autoreload\n",
    "%autoreload 2\n",
    "\n",
    "from Netsurface3d import NetSurf3d\n",
    "from data4d import Data4d\n",
    "from stitch_surfaces import StitchSurfaces"
   ]
  },
  {
   "cell_type": "markdown",
   "metadata": {},
   "source": [
    "## Load and Initialize"
   ]
  },
  {
   "cell_type": "code",
   "execution_count": 2,
   "metadata": {},
   "outputs": [],
   "source": [
    "#filenames of images and of mask have to be in same order\n",
    "\n",
    "#filenames = [ '/Users/wissmann/BobSeg/FlySegCropped.tif']\n",
    "#filenames = [ '/Users/wissmann/BobSeg/Cell_croppedModel-0.0.1-3D_Sim-PSF(0.2 0.2 0.6) PXS(0.1 0.1 0.1)-1.tif']\n",
    "filenames = [ '/Users/wissmann/BobSeg/Vecad-flidsRed-48hpf.lif - fish1-48hpf-1.tif']\n",
    "filenames_mask = ['/Users/wissmann/BobSeg/fish_mask.tif']\n",
    "#filenames = [ '/Users/wissmann/BobSeg/easy2surfaces.tif']\n",
    "#filenames_mask = [ '/Users/wissmann/BobSeg/easymask.tif']\n",
    "#filenames = [ '/Users/wissmann/BobSeg/HyperStack.tif']\n",
    "#filenames = [ '/Users/wissmann/BobSeg/HyperStack3.tif']\n",
    "#filenames = [ '/Users/wissmann/BobSeg/debugdx.tif']\n",
    "#filenames = ['/Users/wissmann/BobSeg/nonquadratictest.tif']"
   ]
  },
  {
   "cell_type": "code",
   "execution_count": 3,
   "metadata": {
    "scrolled": true
   },
   "outputs": [
    {
     "name": "stdout",
     "output_type": "stream",
     "text": [
      "Dimensions (z,y,x) of frame 0 :  (213, 738, 792)\n",
      "Searching for surface(s) along z direction\n",
      "Dimensions (y,x) of mask 0 :  (738, 792)\n"
     ]
    }
   ],
   "source": [
    "data = Data4d( filenames, axis=0, filenames_mask=filenames_mask, pixelsize=(1.,1.,1.), silent=False, plane=None )"
   ]
  },
  {
   "cell_type": "code",
   "execution_count": 4,
   "metadata": {},
   "outputs": [],
   "source": [
    "data.set_seg_params(K=50,max_delta_k=2,dx=10,dy=10,surfaces=2,min_dist=2,max_dist=50) #min and max dist in terms of k"
   ]
  },
  {
   "cell_type": "code",
   "execution_count": 5,
   "metadata": {},
   "outputs": [],
   "source": [
    "#between min_rs and max_rs the program will look for the surfaces\n",
    "max_rs = data.images[0].shape[0]\n",
    "min_rs = 0"
   ]
  },
  {
   "cell_type": "code",
   "execution_count": 6,
   "metadata": {},
   "outputs": [],
   "source": [
    "Ea = data.init_object(\"Ea\")"
   ]
  },
  {
   "cell_type": "markdown",
   "metadata": {},
   "source": [
    "## Actual Segmentation"
   ]
  },
  {
   "cell_type": "code",
   "execution_count": 7,
   "metadata": {
    "scrolled": true
   },
   "outputs": [
    {
     "name": "stdout",
     "output_type": "stream",
     "text": [
      "Added appearance for \"Ea\" in frame 0\n",
      "Number of columns: 3038\n",
      "Number of Surfaces: 2\n",
      "c 0\n",
      "Elapsed time is 7.407933950424194 seconds.\n",
      "Done with surface 0\n",
      "c 151900\n",
      "Elapsed time is 7.634200096130371 seconds.\n",
      "Done with surface 1\n",
      "Only thing happening from now on: PyMaxFlow calculates.\n",
      "      Optimum energy:  202317.0\n",
      "      Nodes in/out:  203428 100372\n"
     ]
    }
   ],
   "source": [
    "data.add_object_at( Ea, min_rs, max_rs, frame=0, frame_to=0, segment_it=True, plot_base_graph=False )"
   ]
  },
  {
   "cell_type": "markdown",
   "metadata": {},
   "source": [
    "## Visualization"
   ]
  },
  {
   "cell_type": "code",
   "execution_count": 8,
   "metadata": {
    "scrolled": true
   },
   "outputs": [
    {
     "name": "stderr",
     "output_type": "stream",
     "text": [
      "/Users/wissmann/py37/lib/python3.7/site-packages/pyopencl/cffi_cl.py:1521: CompilerWarning: Non-empty compiler output encountered. Set the environment variable PYOPENCL_COMPILER_OUTPUT=1 to see more.\n",
      "  \"to see more.\", CompilerWarning)\n"
     ]
    },
    {
     "name": "stdout",
     "output_type": "stream",
     "text": [
      "vertices (3038, 3)\n",
      "v 3038\n",
      "n 3038\n",
      "vertices (2, 3038, 3)\n",
      "v 3038\n",
      "n 3038\n"
     ]
    }
   ],
   "source": [
    "w = data.show_frame(0,show_surfaces=True,show_centers=False, stackUnits=[1.,1.,1.],raise_window=True,export=True,stitch=False)"
   ]
  },
  {
   "cell_type": "code",
   "execution_count": 9,
   "metadata": {},
   "outputs": [
    {
     "name": "stdout",
     "output_type": "stream",
     "text": [
      "[180 181 182 183 184 185]\n",
      "in data show\n",
      "frame 180\n",
      "frame 181\n",
      "frame 182\n",
      "frame 183\n",
      "frame 184\n",
      "frame 185\n"
     ]
    }
   ],
   "source": [
    "z_extents = [180,185]\n",
    "\n",
    "z_levels  = np.arange(z_extents[0],z_extents[1]+1, step=1)\n",
    "print(z_levels)\n",
    "\n",
    "data.show_sections(f=0,plane_orig=[0,0,0], plane_normal=[0,1,0], num_slices=z_levels,show_image=True)\n",
    "#[x,y,z]"
   ]
  },
  {
   "cell_type": "markdown",
   "metadata": {},
   "source": [
    "## Save Surface points to txt file"
   ]
  },
  {
   "cell_type": "code",
   "execution_count": null,
   "metadata": {},
   "outputs": [],
   "source": [
    "#fig = plt.figure()\n",
    "#ax = plt.axes(projection='3d')\n",
    "xdata = np.zeros(20000)\n",
    "ydata = np.zeros(20000)\n",
    "zdata = np.zeros(20000)\n",
    "#(xdata,ydata,zdata)=\n",
    "x=np.array(data.give_surface_points(0))\n",
    "print(x)\n",
    "print(x.shape)\n",
    "\n",
    "k=0\n",
    "fh=open(\"test.txt\",\"w\")\n",
    "\n",
    "for i in x[0]:\n",
    " #   xdata[k]=x[0][k][0]\n",
    " #   ydata[k]=x[0][k][1]\n",
    " #   zdata[k]=x[0][k][2]\n",
    "    k+=1\n",
    "    print(i[0])\n",
    "    fh.write(str(i[0])+','+str(i[1])+','+str(i[2])+'\\n')\n",
    "\n",
    "xdata=xdata[xdata!=0]\n",
    "\n",
    "#ax.scatter3D(xdata, ydata, zdata, c=zdata, cmap='Greens');"
   ]
  },
  {
   "cell_type": "code",
   "execution_count": null,
   "metadata": {},
   "outputs": [],
   "source": []
  }
 ],
 "metadata": {
  "kernelspec": {
   "display_name": "Python 3",
   "language": "python",
   "name": "python3"
  },
  "language_info": {
   "codemirror_mode": {
    "name": "ipython",
    "version": 3
   },
   "file_extension": ".py",
   "mimetype": "text/x-python",
   "name": "python",
   "nbconvert_exporter": "python",
   "pygments_lexer": "ipython3",
   "version": "3.7.0"
  }
 },
 "nbformat": 4,
 "nbformat_minor": 2
}
