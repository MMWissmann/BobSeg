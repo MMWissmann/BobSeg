{
 "cells": [
  {
   "cell_type": "markdown",
   "metadata": {},
   "source": [
    "# Generate Segmentation images based on NetSurfBottom"
   ]
  },
  {
   "cell_type": "code",
   "execution_count": 44,
   "metadata": {
    "scrolled": true
   },
   "outputs": [],
   "source": [
    "%matplotlib qt\n",
    "\n",
    "import time\n",
    "import copy\n",
    "import numpy as np\n",
    "from skimage.filters import gaussian\n",
    "\n",
    "from tifffile import imread, imsave\n",
    "import _pickle as pickle\n",
    "\n",
    "import matplotlib.pyplot as plt\n",
    "\n",
    "from spimagine import volfig, volshow\n",
    "from spimagine import EllipsoidMesh, Mesh\n",
    "\n",
    "%reload_ext autoreload\n",
    "%autoreload 2\n",
    "\n",
    "from Netsurface3dFromBottom import NetSurfBottom\n",
    "from data4dBottom import Data4dBottom\n",
    "\n",
    "from mpl_toolkits import mplot3d"
   ]
  },
  {
   "cell_type": "markdown",
   "metadata": {},
   "source": [
    "## Load and Initialize"
   ]
  },
  {
   "cell_type": "code",
   "execution_count": 54,
   "metadata": {},
   "outputs": [],
   "source": [
    "filenames = [ '/home/wissmann/Cell_croppedModel-0.0.1-3D_Sim-PSF(0.2 0.2 0.6) PXS(0.1 0.1 0.1).tif']"
   ]
  },
  {
   "cell_type": "code",
   "execution_count": 60,
   "metadata": {
    "scrolled": true
   },
   "outputs": [
    {
     "name": "stdout",
     "output_type": "stream",
     "text": [
      "Dimensions of frame 0 :  (50, 99, 96)\n"
     ]
    }
   ],
   "source": [
    "data = Data4dBottom( filenames, pixelsize=(1.,1.,1.), silent=False )\n",
    "data.set_seg_params(K=40,max_delta_k=10,divx=2,divy=2,min_dist=0,max_dist=20,s=2)\n",
    "objects = []\n",
    "ecells = []"
   ]
  },
  {
   "cell_type": "code",
   "execution_count": 61,
   "metadata": {},
   "outputs": [],
   "source": [
    "max_rs = data.images[0].shape[0]\n",
    "\n",
    "min_rs = 1"
   ]
  },
  {
   "cell_type": "code",
   "execution_count": 62,
   "metadata": {},
   "outputs": [],
   "source": [
    "Ea = data.init_object(\"Ea\")\n",
    "objects.append(Ea)\n",
    "ecells.append(Ea)"
   ]
  },
  {
   "cell_type": "markdown",
   "metadata": {},
   "source": [
    "## Actual Segmentation"
   ]
  },
  {
   "cell_type": "code",
   "execution_count": 69,
   "metadata": {
    "scrolled": true
   },
   "outputs": [
    {
     "name": "stdout",
     "output_type": "stream",
     "text": [
      "Added appearance for \"Ea\" in frame 0\n",
      "Number of columns: 2352\n",
      "2\n",
      "c 0\n",
      "c 2352\n",
      "      Optimum energy:  1406388.0\n",
      "      Nodes in/out:  188160 0\n"
     ]
    }
   ],
   "source": [
    "data.add_object_at( Ea, min_rs, max_rs, frame=0, frame_to=0, segment_it=True )"
   ]
  },
  {
   "cell_type": "markdown",
   "metadata": {},
   "source": [
    "## Save Surface points to txt file"
   ]
  },
  {
   "cell_type": "code",
   "execution_count": 15,
   "metadata": {},
   "outputs": [],
   "source": [
    "#fig = plt.figure()\n",
    "#ax = plt.axes(projection='3d')\n",
    "xdata = np.zeros(20000)\n",
    "ydata = np.zeros(20000)\n",
    "zdata = np.zeros(20000)\n",
    "#(xdata,ydata,zdata)=\n",
    "x=data.give_surface_points(0)\n",
    "k=0\n",
    "fh=open(\"test_2s.txt\",\"w\")\n",
    "\n",
    "for i in x:\n",
    "    xdata[k]=x[k][0]\n",
    "    ydata[k]=x[k][1]\n",
    "    zdata[k]=x[k][2]\n",
    "    k+=1\n",
    "    if float(zdata[k])==46.0:\n",
    "        continue\n",
    "    else:\n",
    "        fh.write(str(i)[1:-1]+'\\n')\n",
    "\n",
    "xdata=xdata[xdata!=0]\n",
    "\n",
    "#ax.scatter3D(xdata, ydata, zdata, c=zdata, cmap='Greens');"
   ]
  },
  {
   "cell_type": "markdown",
   "metadata": {},
   "source": [
    "## Visualization"
   ]
  },
  {
   "cell_type": "code",
   "execution_count": 37,
   "metadata": {
    "scrolled": true
   },
   "outputs": [
    {
     "name": "stdout",
     "output_type": "stream",
     "text": [
      "[[   0    1   48]\n",
      " [   1    2   49]\n",
      " [   2    3   50]\n",
      " ...\n",
      " [2349 2348 2301]\n",
      " [2350 2349 2302]\n",
      " [2351 2350 2303]]\n",
      "in get normals\n",
      "(4512, 3)\n",
      "(2352, 3)\n",
      "(4512, 3, 3)\n",
      "(4512, 3)\n",
      "[   0    1    2 ... 2349 2350 2351]\n",
      "(4704, 3)\n",
      "(4512, 3)\n",
      "(4512, 3, 3)\n",
      "[[   0    1   48]\n",
      " [   1    2   49]\n",
      " [   2    3   50]\n",
      " ...\n",
      " [2349 2348 2301]\n",
      " [2350 2349 2302]\n",
      " [2351 2350 2303]]\n",
      "in get normals\n",
      "(4512, 3)\n",
      "(2352, 3)\n",
      "(4512, 3, 3)\n",
      "(4512, 3)\n",
      "[   0    1    2 ... 2349 2350 2351]\n",
      "(4704, 3)\n",
      "(4512, 3)\n",
      "(4512, 3, 3)\n"
     ]
    }
   ],
   "source": [
    "w = data.show_frame(0,show_surfaces=True,stackUnits=[1.,1.,1.],raise_window=True)\n",
    "data.show_objects(ecells, show_surfaces=True, show_centers=False, colors=data.colors_gold)"
   ]
  },
  {
   "cell_type": "code",
   "execution_count": 73,
   "metadata": {},
   "outputs": [
    {
     "name": "stdout",
     "output_type": "stream",
     "text": [
      "2 2\n",
      "1 3\n",
      "2 3\n",
      "2 4\n",
      "2 5\n",
      "2 6\n",
      "2 7\n",
      "3\n"
     ]
    }
   ],
   "source": [
    "b=[2, 3, 4, 5, 6, 7,-5]\n",
    "for a in b:\n",
    "    if a==3:\n",
    "        print(1,a)\n",
    "    if a>0:\n",
    "        print(2,a)\n",
    "    else: print(3)"
   ]
  },
  {
   "cell_type": "code",
   "execution_count": null,
   "metadata": {},
   "outputs": [],
   "source": []
  }
 ],
 "metadata": {
  "kernelspec": {
   "display_name": "Python 3",
   "language": "python",
   "name": "python3"
  },
  "language_info": {
   "codemirror_mode": {
    "name": "ipython",
    "version": 3
   },
   "file_extension": ".py",
   "mimetype": "text/x-python",
   "name": "python",
   "nbconvert_exporter": "python",
   "pygments_lexer": "ipython3",
   "version": "3.5.5"
  }
 },
 "nbformat": 4,
 "nbformat_minor": 2
}
