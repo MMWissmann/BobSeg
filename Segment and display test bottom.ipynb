{
 "cells": [
  {
   "cell_type": "markdown",
   "metadata": {},
   "source": [
    "# Generate Segmentation images based on NetSurfBottom"
   ]
  },
  {
   "cell_type": "code",
   "execution_count": 1,
   "metadata": {
    "scrolled": true
   },
   "outputs": [
    {
     "name": "stdout",
     "output_type": "stream",
     "text": [
      "no scikit-tensor detected, so separable functions wont work\n",
      "This is a python3 issue and can be resolved by:\n",
      "\n",
      "git clone https://github.com/mnick/scikit-tensor.git\n",
      "pip3 install scikit-tensor\n"
     ]
    }
   ],
   "source": [
    "%matplotlib qt\n",
    "\n",
    "import time\n",
    "import copy\n",
    "import numpy as np\n",
    "from skimage.filters import gaussian\n",
    "\n",
    "from tifffile import imread, imsave\n",
    "import _pickle as pickle\n",
    "\n",
    "import matplotlib.pyplot as plt\n",
    "\n",
    "from spimagine import volfig, volshow\n",
    "from spimagine import EllipsoidMesh, Mesh\n",
    "\n",
    "%reload_ext autoreload\n",
    "%autoreload 2\n",
    "\n",
    "from Netsurface3dFromBottom import NetSurfBottom\n",
    "from data4dBottom import Data4dBottom"
   ]
  },
  {
   "cell_type": "markdown",
   "metadata": {},
   "source": [
    "## Load and Initialize"
   ]
  },
  {
   "cell_type": "code",
   "execution_count": 2,
   "metadata": {},
   "outputs": [],
   "source": [
    "filenames = [ '/Users/wissmann/BobSeg/Cell_croppedModel-0.0.1-3D_Sim-PSF(0.2 0.2 0.6) PXS(0.1 0.1 0.1).tif']\n",
    "#filenames = [ '/Users/wissmann/BobSeg/easy2surfaces.tif']"
   ]
  },
  {
   "cell_type": "code",
   "execution_count": 23,
   "metadata": {
    "scrolled": true
   },
   "outputs": [
    {
     "name": "stdout",
     "output_type": "stream",
     "text": [
      "Dimensions of frame 0 :  (50, 99, 96)\n",
      "50\n",
      "99\n",
      "min dist 1\n"
     ]
    }
   ],
   "source": [
    "data = Data4dBottom( filenames, pixelsize=(1.,1.,1.), silent=False )\n",
    "data.set_seg_params(K=40,max_delta_k=2,divx=1,divy=1,min_dist=1,max_dist=40,s=2)\n",
    "objects = []\n",
    "ecells = []"
   ]
  },
  {
   "cell_type": "code",
   "execution_count": 24,
   "metadata": {},
   "outputs": [
    {
     "name": "stdout",
     "output_type": "stream",
     "text": [
      "50\n"
     ]
    }
   ],
   "source": [
    "print(data.images[0].shape[0])\n",
    "max_rs = data.images[0].shape[0]\n",
    "\n",
    "min_rs = 0"
   ]
  },
  {
   "cell_type": "code",
   "execution_count": 25,
   "metadata": {},
   "outputs": [],
   "source": [
    "Ea = data.init_object(\"Ea\")\n",
    "objects.append(Ea)\n",
    "ecells.append(Ea)"
   ]
  },
  {
   "cell_type": "markdown",
   "metadata": {},
   "source": [
    "## Actual Segmentation"
   ]
  },
  {
   "cell_type": "code",
   "execution_count": 26,
   "metadata": {
    "scrolled": true
   },
   "outputs": [
    {
     "name": "stdout",
     "output_type": "stream",
     "text": [
      "Added appearance for \"Ea\" in frame 0\n",
      "Number of columns: 9504\n",
      "Number of Surfaces: 2\n",
      "c 0\n",
      "c 380160\n",
      "      Optimum energy:  1829053.0\n",
      "      Nodes in/out:  274264 486056\n"
     ]
    }
   ],
   "source": [
    "data.add_object_at( Ea, min_rs, max_rs, frame=0, frame_to=0, segment_it=True )"
   ]
  },
  {
   "cell_type": "markdown",
   "metadata": {},
   "source": [
    "## Save Surface points to txt file"
   ]
  },
  {
   "cell_type": "markdown",
   "metadata": {},
   "source": [
    "## Visualization"
   ]
  },
  {
   "cell_type": "code",
   "execution_count": 27,
   "metadata": {
    "scrolled": true
   },
   "outputs": [
    {
     "name": "stdout",
     "output_type": "stream",
     "text": [
      "s 0\n",
      "[[   0    1   96]\n",
      " [   1    2   97]\n",
      " [   2    3   98]\n",
      " ...\n",
      " [9501 9500 9405]\n",
      " [9502 9501 9406]\n",
      " [9503 9502 9407]]\n",
      "indices shape 18620\n",
      "indices (18620, 3)\n",
      "verts (9504, 3)\n",
      "s 1\n",
      "[[   0    1   96]\n",
      " [   1    2   97]\n",
      " [   2    3   98]\n",
      " ...\n",
      " [9501 9500 9405]\n",
      " [9502 9501 9406]\n",
      " [9503 9502 9407]]\n",
      "indices shape 18620\n",
      "indices (18620, 3)\n",
      "verts (9504, 3)\n"
     ]
    },
    {
     "name": "stderr",
     "output_type": "stream",
     "text": [
      "INFO:spimagine.gui.glwidget | saving frame as /Users/wissmann/BobSeg/2surf_spim_out.png\n"
     ]
    }
   ],
   "source": [
    "w = data.show_frame(0,show_surfaces=True,show_centers=False, stackUnits=[1.,1.,1.],raise_window=True)"
   ]
  },
  {
   "cell_type": "code",
   "execution_count": 16,
   "metadata": {},
   "outputs": [
    {
     "ename": "IndexError",
     "evalue": "index 20000 is out of bounds for axis 0 with size 20000",
     "output_type": "error",
     "traceback": [
      "\u001b[0;31m---------------------------------------------------------------------------\u001b[0m",
      "\u001b[0;31mIndexError\u001b[0m                                Traceback (most recent call last)",
      "\u001b[0;32m<ipython-input-16-5e9d6b2946a4>\u001b[0m in \u001b[0;36m<module>\u001b[0;34m()\u001b[0m\n\u001b[1;32m     15\u001b[0m     \u001b[0mzdata\u001b[0m\u001b[0;34m[\u001b[0m\u001b[0mk\u001b[0m\u001b[0;34m]\u001b[0m\u001b[0;34m=\u001b[0m\u001b[0mx\u001b[0m\u001b[0;34m[\u001b[0m\u001b[0mk\u001b[0m\u001b[0;34m]\u001b[0m\u001b[0;34m[\u001b[0m\u001b[0;36m2\u001b[0m\u001b[0;34m]\u001b[0m\u001b[0;34m\u001b[0m\u001b[0m\n\u001b[1;32m     16\u001b[0m     \u001b[0mk\u001b[0m\u001b[0;34m+=\u001b[0m\u001b[0;36m1\u001b[0m\u001b[0;34m\u001b[0m\u001b[0m\n\u001b[0;32m---> 17\u001b[0;31m     \u001b[0;32mif\u001b[0m \u001b[0mfloat\u001b[0m\u001b[0;34m(\u001b[0m\u001b[0mzdata\u001b[0m\u001b[0;34m[\u001b[0m\u001b[0mk\u001b[0m\u001b[0;34m]\u001b[0m\u001b[0;34m)\u001b[0m\u001b[0;34m==\u001b[0m\u001b[0;36m46.0\u001b[0m\u001b[0;34m:\u001b[0m\u001b[0;34m\u001b[0m\u001b[0m\n\u001b[0m\u001b[1;32m     18\u001b[0m         \u001b[0;32mcontinue\u001b[0m\u001b[0;34m\u001b[0m\u001b[0m\n\u001b[1;32m     19\u001b[0m     \u001b[0;32melse\u001b[0m\u001b[0;34m:\u001b[0m\u001b[0;34m\u001b[0m\u001b[0m\n",
      "\u001b[0;31mIndexError\u001b[0m: index 20000 is out of bounds for axis 0 with size 20000"
     ]
    }
   ],
   "source": [
    "#fig = plt.figure()\n",
    "#ax = plt.axes(projection='3d')\n",
    "xdata = np.zeros(20000)\n",
    "ydata = np.zeros(20000)\n",
    "zdata = np.zeros(20000)\n",
    "#(xdata,ydata,zdata)=\n",
    "x=data.give_surface_points(0)\n",
    "\n",
    "k=0\n",
    "fh=open(\"test_2s.txt\",\"w\")\n",
    "\n",
    "for i in x:\n",
    "    xdata[k]=x[k][0]\n",
    "    ydata[k]=x[k][1]\n",
    "    zdata[k]=x[k][2]\n",
    "    k+=1\n",
    "    if float(zdata[k])==46.0:\n",
    "        continue\n",
    "    else:\n",
    "        fh.write(str(i)[1:-1]+'\\n')\n",
    "\n",
    "xdata=xdata[xdata!=0]\n",
    "\n",
    "#ax.scatter3D(xdata, ydata, zdata, c=zdata, cmap='Greens');"
   ]
  },
  {
   "cell_type": "code",
   "execution_count": null,
   "metadata": {},
   "outputs": [],
   "source": []
  },
  {
   "cell_type": "code",
   "execution_count": null,
   "metadata": {},
   "outputs": [],
   "source": []
  }
 ],
 "metadata": {
  "kernelspec": {
   "display_name": "Python 3",
   "language": "python",
   "name": "python3"
  },
  "language_info": {
   "codemirror_mode": {
    "name": "ipython",
    "version": 3
   },
   "file_extension": ".py",
   "mimetype": "text/x-python",
   "name": "python",
   "nbconvert_exporter": "python",
   "pygments_lexer": "ipython3",
   "version": "3.7.0"
  }
 },
 "nbformat": 4,
 "nbformat_minor": 2
}
